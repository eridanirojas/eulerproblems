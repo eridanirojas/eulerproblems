{
 "cells": [
  {
   "cell_type": "code",
   "execution_count": 29,
   "id": "768166a5-96d1-48da-b14f-5d41f06f32cd",
   "metadata": {},
   "outputs": [],
   "source": [
    "#If we list all the natural numbers below 10 that are multiples of 3 or 5 we get and 3,5,6,9. The sum of these multiples is 23.\n",
    "#Find the sum of all multiples of 3 or 5 below 1000. "
   ]
  },
  {
   "cell_type": "code",
   "execution_count": 30,
   "id": "bf1f168c-783d-4e91-966d-0609fc1b42cb",
   "metadata": {},
   "outputs": [],
   "source": [
    "#importing numpy for use to find the sum of the list created from all multiples of 3 and 5\n",
    "import numpy as np"
   ]
  },
  {
   "cell_type": "code",
   "execution_count": 31,
   "id": "5a0a5476-aecf-4c11-8aca-14c017067167",
   "metadata": {},
   "outputs": [],
   "source": [
    "#num is equivalent to the number in which you wish to find the sum of the multiples of 3 and 5 within provided number\n",
    "def eulersolver(num):\n",
    "    list = []\n",
    "    for i in range(num):\n",
    "        if i % 3 == 0:\n",
    "            list.append(i)\n",
    "        elif i % 5 == 0:\n",
    "            list.append(i)\n",
    "    return np.sum(list)"
   ]
  },
  {
   "cell_type": "code",
   "execution_count": 32,
   "id": "75b04df2-db0a-47fc-af3a-ac52e2a51289",
   "metadata": {},
   "outputs": [
    {
     "data": {
      "text/plain": [
       "233168"
      ]
     },
     "execution_count": 32,
     "metadata": {},
     "output_type": "execute_result"
    }
   ],
   "source": [
    "#passing in 1000 into eulersolver() will provide you the sum of all multiples of 3 and 5 less than 1000\n",
    "eulersolver(1000)"
   ]
  }
 ],
 "metadata": {
  "kernelspec": {
   "display_name": "Python 3 (ipykernel)",
   "language": "python",
   "name": "python3"
  },
  "language_info": {
   "codemirror_mode": {
    "name": "ipython",
    "version": 3
   },
   "file_extension": ".py",
   "mimetype": "text/x-python",
   "name": "python",
   "nbconvert_exporter": "python",
   "pygments_lexer": "ipython3",
   "version": "3.12.2"
  }
 },
 "nbformat": 4,
 "nbformat_minor": 5
}
